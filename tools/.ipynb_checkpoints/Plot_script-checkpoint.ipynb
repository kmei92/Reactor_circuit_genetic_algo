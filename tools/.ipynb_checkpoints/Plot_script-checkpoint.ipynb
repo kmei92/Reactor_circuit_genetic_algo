{
 "cells": [
  {
   "cell_type": "code",
   "execution_count": 2,
   "metadata": {},
   "outputs": [
    {
     "data": {
      "text/plain": [
       "'./graph/output.pdf'"
      ]
     },
     "execution_count": 2,
     "metadata": {},
     "output_type": "execute_result"
    }
   ],
   "source": [
    "import sys\n",
    "import graphviz\n",
    "import numpy as np\n",
    "\n",
    "\n",
    "graph = graphviz.Digraph()\n",
    "#vec = [int(_) for _ in sys.argv[2:]]\n",
    "data = np.loadtxt(\"./data/output.txt\")\n",
    "vec = [int(x) for x in data]\n",
    "\n",
    "N = (len(vec)-1)//2\n",
    "\n",
    "def label(x):\n",
    "    if x<N:\n",
    "        return 'Unit %s'%(x+1)\n",
    "    elif x==N:\n",
    "        return 'Tailings'\n",
    "    else:\n",
    "        return 'Concentrate'\n",
    "\n",
    "graph.attr(rankdir='LR')\n",
    "graph.attr('node', shape='rectangle')\n",
    "\n",
    "graph.edge('Feed', label(vec[0]), color='blue',\n",
    "           headport='w', tailport='e',\n",
    "           arrowhead='normal', arrowtail='normal')\n",
    "\n",
    "for _ in range(N):\n",
    "    graph.edge(label(_), label(vec[2*_+2]), color='blue',\n",
    "               headport='w', tailport='n',\n",
    "               arrowhead='normal')\n",
    "    graph.edge(label(_), label(vec[2*_+1]), color='red',\n",
    "               headport='w', tailport='s',\n",
    "               arrowhead='normal')\n",
    "\n",
    "with graph.subgraph() as s:\n",
    "    s.attr(rank = 'source')\n",
    "    for n in ('Feed',):\n",
    "        s.node(n)\n",
    "\n",
    "with graph.subgraph() as s:\n",
    "    s.attr(rank = 'sink')\n",
    "    for n in ('Tailings', 'Concentrate'):\n",
    "        s.node(n)\n",
    "\n",
    "graph.attr(label=\"vector: %s\"%vec)\n",
    "#graph.render(filename=sys.argv[1], cleanup=True)\n",
    "graph.render('./graph/output', view=True)  "
   ]
  },
  {
   "cell_type": "code",
   "execution_count": null,
   "metadata": {},
   "outputs": [],
   "source": []
  }
 ],
 "metadata": {
  "kernelspec": {
   "display_name": "Python 3",
   "language": "python",
   "name": "python3"
  },
  "language_info": {
   "codemirror_mode": {
    "name": "ipython",
    "version": 3
   },
   "file_extension": ".py",
   "mimetype": "text/x-python",
   "name": "python",
   "nbconvert_exporter": "python",
   "pygments_lexer": "ipython3",
   "version": "3.6.7"
  }
 },
 "nbformat": 4,
 "nbformat_minor": 2
}
