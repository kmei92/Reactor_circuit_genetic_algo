{
 "cells": [
  {
   "cell_type": "code",
   "execution_count": 11,
   "metadata": {},
   "outputs": [],
   "source": [
    "import sys\n",
    "import graphviz\n",
    "import numpy as np\n",
    "import matplotlib.pyplot as plt"
   ]
  },
  {
   "cell_type": "code",
   "execution_count": 24,
   "metadata": {},
   "outputs": [
    {
     "data": {
      "text/plain": [
       "'./graph/output.pdf'"
      ]
     },
     "execution_count": 24,
     "metadata": {},
     "output_type": "execute_result"
    }
   ],
   "source": [
    "\n",
    "graph = graphviz.Digraph()\n",
    "#vec = [int(_) for _ in sys.argv[2:]]\n",
    "data = np.loadtxt(\"./data.txt\")\n",
    "vec = [int(x) for x in data]\n",
    "\n",
    "N = (len(vec)-1)//2\n",
    "\n",
    "def label(x):\n",
    "    if x<N:\n",
    "        return 'Unit %s'%(x)\n",
    "    elif x==N:\n",
    "        return 'Concentrate'\n",
    "    else:\n",
    "        return 'Tailings'\n",
    "\n",
    "graph.attr(rankdir='LR')\n",
    "graph.attr('node', shape='rectangle')\n",
    "\n",
    "graph.edge('Feed', label(vec[0]), color='blue',\n",
    "           headport='w', tailport='e',\n",
    "           arrowhead='normal', arrowtail='normal')\n",
    "\n",
    "for _ in range(N):\n",
    "    graph.edge(label(_), label(vec[2*_+1]), color='blue',\n",
    "               headport='w', tailport='n',\n",
    "               arrowhead='normal')\n",
    "    graph.edge(label(_), label(vec[2*_+2]), color='red',\n",
    "               headport='w', tailport='s',\n",
    "               arrowhead='normal')\n",
    "\n",
    "with graph.subgraph() as s:\n",
    "    s.attr(rank = 'source')\n",
    "    for n in ('Feed',):\n",
    "        s.node(n)\n",
    "\n",
    "with graph.subgraph() as s:\n",
    "    s.attr(rank = 'sink')\n",
    "    for n in ('Tailings', 'Concentrate'):\n",
    "        s.node(n)\n",
    "\n",
    "graph.attr(label=\"vector: %s\"%vec)\n",
    "#graph.render(filename=sys.argv[1], cleanup=True)\n",
    "graph.render('./graph/output', view=True)  "
   ]
  },
  {
   "cell_type": "code",
   "execution_count": 22,
   "metadata": {},
   "outputs": [],
   "source": [
    "performance = np.loadtxt(\"./performance_list.txt\")"
   ]
  },
  {
   "cell_type": "code",
   "execution_count": 23,
   "metadata": {},
   "outputs": [
    {
     "data": {
      "image/png": "[encoded data removed]",
      "text/plain": [
       "<Figure size 720x720 with 1 Axes>"
      ]
     },
     "metadata": {},
     "output_type": "display_data"
    }
   ],
   "source": [
    "fig1 = plt.figure(figsize=(10, 10))\n",
    "ax1 = plt.subplot(111)\n",
    "\n",
    "ax1.plot(performance, 'ko-', label='peroformance')\n",
    "\n",
    "ax1.set_xlabel('$t$', fontsize=16)\n",
    "ax1.set_ylabel('$Revenues$', fontsize=16)\n",
    "ax1.set_title('$Revenues$ $along$ $with$ $time$', fontsize=16)\n",
    "ax1.grid()"
   ]
  },
  {
   "cell_type": "code",
   "execution_count": null,
   "metadata": {},
   "outputs": [],
   "source": []
  }
 ],
 "metadata": {
  "kernelspec": {
   "display_name": "Python 3",
   "language": "python",
   "name": "python3"
  },
  "language_info": {
   "codemirror_mode": {
    "name": "ipython",
    "version": 3
   },
   "file_extension": ".py",
   "mimetype": "text/x-python",
   "name": "python",
   "nbconvert_exporter": "python",
   "pygments_lexer": "ipython3",
   "version": "3.6.7"
  }
 },
 "nbformat": 4,
 "nbformat_minor": 2
}
